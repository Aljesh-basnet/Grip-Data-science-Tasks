{
 "cells": [
  {
   "cell_type": "markdown",
   "id": "612c2f55",
   "metadata": {},
   "source": [
    "<h1>GRIP Task 1</h1>\n",
    "<h2>Linear regression</h2>\n",
    "Author: Aljesh Basnet\n",
    "\n",
    "In this notebook, prediction of percentage of students by no. of study hours is done. This task is done using Linear regression."
   ]
  },
  {
   "cell_type": "markdown",
   "id": "bdb1943a",
   "metadata": {},
   "source": [
    "libraries used: \n",
    "1. Numpy\n",
    "2. Pandas\n",
    "3. Matplotlib\n",
    "4. Sklearn\n",
    "\n",
    "Ide: Jupyter notebook\n"
   ]
  },
  {
   "cell_type": "code",
   "execution_count": 20,
   "id": "3eedf999",
   "metadata": {},
   "outputs": [],
   "source": [
    "# Importing all the required libraries\n",
    "import pandas as pd\n",
    "import numpy as np\n",
    "import matplotlib.pyplot as plt\n",
    "from sklearn.model_selection import train_test_split\n"
   ]
  },
  {
   "cell_type": "code",
   "execution_count": 21,
   "id": "953cba8d",
   "metadata": {},
   "outputs": [],
   "source": [
    "# Loading the csv dataset\n",
    "df= pd.read_csv('Prediction using Supervised ML.csv')"
   ]
  },
  {
   "cell_type": "code",
   "execution_count": 22,
   "id": "ade2d6fd",
   "metadata": {},
   "outputs": [
    {
     "data": {
      "text/html": [
       "<div>\n",
       "<style scoped>\n",
       "    .dataframe tbody tr th:only-of-type {\n",
       "        vertical-align: middle;\n",
       "    }\n",
       "\n",
       "    .dataframe tbody tr th {\n",
       "        vertical-align: top;\n",
       "    }\n",
       "\n",
       "    .dataframe thead th {\n",
       "        text-align: right;\n",
       "    }\n",
       "</style>\n",
       "<table border=\"1\" class=\"dataframe\">\n",
       "  <thead>\n",
       "    <tr style=\"text-align: right;\">\n",
       "      <th></th>\n",
       "      <th>Hours</th>\n",
       "      <th>Scores</th>\n",
       "    </tr>\n",
       "  </thead>\n",
       "  <tbody>\n",
       "    <tr>\n",
       "      <th>0</th>\n",
       "      <td>2.5</td>\n",
       "      <td>21</td>\n",
       "    </tr>\n",
       "    <tr>\n",
       "      <th>1</th>\n",
       "      <td>5.1</td>\n",
       "      <td>47</td>\n",
       "    </tr>\n",
       "    <tr>\n",
       "      <th>2</th>\n",
       "      <td>3.2</td>\n",
       "      <td>27</td>\n",
       "    </tr>\n",
       "    <tr>\n",
       "      <th>3</th>\n",
       "      <td>8.5</td>\n",
       "      <td>75</td>\n",
       "    </tr>\n",
       "    <tr>\n",
       "      <th>4</th>\n",
       "      <td>3.5</td>\n",
       "      <td>30</td>\n",
       "    </tr>\n",
       "  </tbody>\n",
       "</table>\n",
       "</div>"
      ],
      "text/plain": [
       "   Hours  Scores\n",
       "0    2.5      21\n",
       "1    5.1      47\n",
       "2    3.2      27\n",
       "3    8.5      75\n",
       "4    3.5      30"
      ]
     },
     "execution_count": 22,
     "metadata": {},
     "output_type": "execute_result"
    }
   ],
   "source": [
    "# Checking the values of the loaded dataset\n",
    "df.head()"
   ]
  },
  {
   "cell_type": "code",
   "execution_count": 23,
   "id": "ca585e4b",
   "metadata": {},
   "outputs": [],
   "source": [
    "# Determining the input and output label variables\n",
    "X_train=df.iloc[:,0]\n",
    "y_train=df.iloc[:,1]"
   ]
  },
  {
   "cell_type": "code",
   "execution_count": 24,
   "id": "665913f7",
   "metadata": {},
   "outputs": [
    {
     "data": {
      "text/plain": [
       "(0     2.5\n",
       " 1     5.1\n",
       " 2     3.2\n",
       " 3     8.5\n",
       " 4     3.5\n",
       " 5     1.5\n",
       " 6     9.2\n",
       " 7     5.5\n",
       " 8     8.3\n",
       " 9     2.7\n",
       " 10    7.7\n",
       " 11    5.9\n",
       " 12    4.5\n",
       " 13    3.3\n",
       " 14    1.1\n",
       " 15    8.9\n",
       " 16    2.5\n",
       " 17    1.9\n",
       " 18    6.1\n",
       " 19    7.4\n",
       " 20    2.7\n",
       " 21    4.8\n",
       " 22    3.8\n",
       " 23    6.9\n",
       " 24    7.8\n",
       " Name: Hours, dtype: float64,\n",
       " (25,))"
      ]
     },
     "execution_count": 24,
     "metadata": {},
     "output_type": "execute_result"
    }
   ],
   "source": [
    "# Checking the input values\n",
    "X_train, X_train.shape"
   ]
  },
  {
   "cell_type": "code",
   "execution_count": 25,
   "id": "aa8b45e5",
   "metadata": {},
   "outputs": [
    {
     "data": {
      "text/plain": [
       "(0     21\n",
       " 1     47\n",
       " 2     27\n",
       " 3     75\n",
       " 4     30\n",
       " 5     20\n",
       " 6     88\n",
       " 7     60\n",
       " 8     81\n",
       " 9     25\n",
       " 10    85\n",
       " 11    62\n",
       " 12    41\n",
       " 13    42\n",
       " 14    17\n",
       " 15    95\n",
       " 16    30\n",
       " 17    24\n",
       " 18    67\n",
       " 19    69\n",
       " 20    30\n",
       " 21    54\n",
       " 22    35\n",
       " 23    76\n",
       " 24    86\n",
       " Name: Scores, dtype: int64,\n",
       " (25,))"
      ]
     },
     "execution_count": 25,
     "metadata": {},
     "output_type": "execute_result"
    }
   ],
   "source": [
    "# Cheking the output label values\n",
    "y_train, y_train.shape"
   ]
  },
  {
   "cell_type": "code",
   "execution_count": 26,
   "id": "ad54a0bb",
   "metadata": {},
   "outputs": [
    {
     "data": {
      "image/png": "[encoded data removed]",
      "text/plain": [
       "<Figure size 432x288 with 1 Axes>"
      ]
     },
     "metadata": {
      "needs_background": "light"
     },
     "output_type": "display_data"
    }
   ],
   "source": [
    "# Visualizing the data to find trends\n",
    "plt.scatter(X_train,y_train,c='#2ca02c',alpha=0.7)\n",
    "plt.xlabel(\"Hours\")\n",
    "plt.ylabel(\"Score\")\n",
    "plt.title(\"Hours vs. Score\")\n",
    "plt.show()"
   ]
  },
  {
   "cell_type": "code",
   "execution_count": 27,
   "id": "908811b5",
   "metadata": {},
   "outputs": [],
   "source": [
    "# converting the input and output label variable to arrays and reshaping the variables\n",
    "X_train=np.array(X_train).reshape(-1,1)\n",
    "y_train=np.array(y_train).reshape(-1,1)"
   ]
  },
  {
   "cell_type": "code",
   "execution_count": 28,
   "id": "ed48081a",
   "metadata": {},
   "outputs": [],
   "source": [
    "X_train, X_test, y_train, y_test= train_test_split(X_train, y_train, test_size=0.2, random_state=32)"
   ]
  },
  {
   "cell_type": "code",
   "execution_count": 29,
   "id": "1ea851c0",
   "metadata": {},
   "outputs": [],
   "source": [
    "# Importing Linear regression model from scikit learn\n",
    "from sklearn.linear_model import LinearRegression"
   ]
  },
  {
   "cell_type": "code",
   "execution_count": 30,
   "id": "53a59aa7",
   "metadata": {},
   "outputs": [],
   "source": [
    "# Defining the linear regression model\n",
    "lr= LinearRegression()"
   ]
  },
  {
   "cell_type": "code",
   "execution_count": 31,
   "id": "d4112916",
   "metadata": {},
   "outputs": [
    {
     "data": {
      "text/plain": [
       "LinearRegression()"
      ]
     },
     "execution_count": 31,
     "metadata": {},
     "output_type": "execute_result"
    }
   ],
   "source": [
    "# Training the model\n",
    "lr.fit(X_train,y_train)"
   ]
  },
  {
   "cell_type": "code",
   "execution_count": 32,
   "id": "fe877464",
   "metadata": {},
   "outputs": [
    {
     "data": {
      "text/plain": [
       "0.9433601520895634"
      ]
     },
     "execution_count": 32,
     "metadata": {},
     "output_type": "execute_result"
    }
   ],
   "source": [
    "# Evaluating the model\n",
    "lr.score(X_train,y_train)"
   ]
  },
  {
   "cell_type": "code",
   "execution_count": 33,
   "id": "3de8153e",
   "metadata": {},
   "outputs": [],
   "source": [
    "y_pred = lr.predict(X_test)"
   ]
  },
  {
   "cell_type": "code",
   "execution_count": 34,
   "id": "8d3e4228",
   "metadata": {},
   "outputs": [
    {
     "name": "stdout",
     "output_type": "stream",
     "text": [
      "The predictions are :\n",
      " [[13.31572516]\n",
      " [26.78238812]\n",
      " [26.78238812]\n",
      " [61.41095003]\n",
      " [88.34427595]]  \n",
      "and the shape of the prediction is (5, 1)\n"
     ]
    }
   ],
   "source": [
    "print(\"The predictions are :\\n\", y_pred, \" \\nand the shape of the prediction is\", y_pred.shape)"
   ]
  },
  {
   "cell_type": "code",
   "execution_count": 35,
   "id": "8f66ffbd",
   "metadata": {},
   "outputs": [
    {
     "name": "stdout",
     "output_type": "stream",
     "text": [
      "The predictions are :\n",
      " [[17]\n",
      " [30]\n",
      " [21]\n",
      " [67]\n",
      " [95]]  \n",
      "and the shape of the prediction is (5, 1)\n"
     ]
    }
   ],
   "source": [
    "print(\"The predictions are :\\n\", y_test, \" \\nand the shape of the prediction is\", y_test.shape)\n"
   ]
  },
  {
   "cell_type": "code",
   "execution_count": 36,
   "id": "5d279f64",
   "metadata": {},
   "outputs": [
    {
     "data": {
      "image/png": "[encoded data removed]",
      "text/plain": [
       "<Figure size 432x288 with 1 Axes>"
      ]
     },
     "metadata": {
      "needs_background": "light"
     },
     "output_type": "display_data"
    }
   ],
   "source": [
    "plt.scatter(X_test,y_test,c='#2ca02c',alpha=0.7)\n",
    "plt.plot(X_test,lr.predict(X_test),c='red')\n",
    "plt.xlabel(\"Hours\")\n",
    "plt.ylabel(\"Score\")\n",
    "plt.title(\"Hours vs. Score for test dataset\")\n",
    "plt.show()"
   ]
  },
  {
   "cell_type": "code",
   "execution_count": 37,
   "id": "b261dfe0",
   "metadata": {},
   "outputs": [],
   "source": [
    "# Making predictions with the model for the custom value\n",
    "def predict(hrs):\n",
    "    X_test=np.array(hrs).reshape(-1,1)\n",
    "    answer= lr.predict(X_test)\n",
    "    print(\"The predicted score was: \",answer, \"for \",hrs, \"hours.\")\n",
    "    print(X_test)"
   ]
  },
  {
   "cell_type": "code",
   "execution_count": 38,
   "id": "eb41cc23",
   "metadata": {},
   "outputs": [
    {
     "name": "stdout",
     "output_type": "stream",
     "text": [
      "The predicted score was:  [[91.71094169]] for  9.25 hours.\n",
      "[[9.25]]\n"
     ]
    }
   ],
   "source": [
    "predict(9.25)"
   ]
  },
  {
   "cell_type": "code",
   "execution_count": null,
   "id": "d2d0da69",
   "metadata": {},
   "outputs": [],
   "source": []
  }
 ],
 "metadata": {
  "kernelspec": {
   "display_name": "Python 3",
   "language": "python",
   "name": "python3"
  },
  "language_info": {
   "codemirror_mode": {
    "name": "ipython",
    "version": 3
   },
   "file_extension": ".py",
   "mimetype": "text/x-python",
   "name": "python",
   "nbconvert_exporter": "python",
   "pygments_lexer": "ipython3",
   "version": "3.7.10"
  }
 },
 "nbformat": 4,
 "nbformat_minor": 5
}
