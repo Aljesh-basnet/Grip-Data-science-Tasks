{
 "cells": [
  {
   "cell_type": "markdown",
   "id": "6d991d9b",
   "metadata": {},
   "source": [
    "<h1>GRIP Task 2</h1>\n",
    "<h2>KMeans clustering and BIRCH clustering</h2>\n",
    "Author: Aljesh Basnet\n",
    "\n",
    "In this notebook, kmeans clustering and birch clustering algorithm are used to cluster the species of iris dataset. Both of the algorithm are example of unsupervised Machine learning. The models score are measured and the model with the better score is finalized as the model that clusters the best for the dataset."
   ]
  },
  {
   "cell_type": "code",
   "execution_count": 1,
   "id": "8b18f17c",
   "metadata": {},
   "outputs": [],
   "source": [
    "# Importing all the required libraries\n",
    "import pandas as pd\n",
    "import numpy as np\n",
    "import matplotlib.pyplot as plt\n",
    "from sklearn.metrics import silhouette_score"
   ]
  },
  {
   "cell_type": "code",
   "execution_count": 2,
   "id": "b454f323",
   "metadata": {},
   "outputs": [],
   "source": [
    "# Loading the csv dataset\n",
    "df= pd.read_csv('iris.csv')"
   ]
  },
  {
   "cell_type": "code",
   "execution_count": 3,
   "id": "79fc6fc1",
   "metadata": {
    "scrolled": true
   },
   "outputs": [
    {
     "data": {
      "text/html": [
       "<div>\n",
       "<style scoped>\n",
       "    .dataframe tbody tr th:only-of-type {\n",
       "        vertical-align: middle;\n",
       "    }\n",
       "\n",
       "    .dataframe tbody tr th {\n",
       "        vertical-align: top;\n",
       "    }\n",
       "\n",
       "    .dataframe thead th {\n",
       "        text-align: right;\n",
       "    }\n",
       "</style>\n",
       "<table border=\"1\" class=\"dataframe\">\n",
       "  <thead>\n",
       "    <tr style=\"text-align: right;\">\n",
       "      <th></th>\n",
       "      <th>Id</th>\n",
       "      <th>SepalLengthCm</th>\n",
       "      <th>SepalWidthCm</th>\n",
       "      <th>PetalLengthCm</th>\n",
       "      <th>PetalWidthCm</th>\n",
       "      <th>Species</th>\n",
       "    </tr>\n",
       "  </thead>\n",
       "  <tbody>\n",
       "    <tr>\n",
       "      <th>0</th>\n",
       "      <td>1</td>\n",
       "      <td>5.1</td>\n",
       "      <td>3.5</td>\n",
       "      <td>1.4</td>\n",
       "      <td>0.2</td>\n",
       "      <td>Iris-setosa</td>\n",
       "    </tr>\n",
       "    <tr>\n",
       "      <th>1</th>\n",
       "      <td>2</td>\n",
       "      <td>4.9</td>\n",
       "      <td>3.0</td>\n",
       "      <td>1.4</td>\n",
       "      <td>0.2</td>\n",
       "      <td>Iris-setosa</td>\n",
       "    </tr>\n",
       "    <tr>\n",
       "      <th>2</th>\n",
       "      <td>3</td>\n",
       "      <td>4.7</td>\n",
       "      <td>3.2</td>\n",
       "      <td>1.3</td>\n",
       "      <td>0.2</td>\n",
       "      <td>Iris-setosa</td>\n",
       "    </tr>\n",
       "    <tr>\n",
       "      <th>3</th>\n",
       "      <td>4</td>\n",
       "      <td>4.6</td>\n",
       "      <td>3.1</td>\n",
       "      <td>1.5</td>\n",
       "      <td>0.2</td>\n",
       "      <td>Iris-setosa</td>\n",
       "    </tr>\n",
       "    <tr>\n",
       "      <th>4</th>\n",
       "      <td>5</td>\n",
       "      <td>5.0</td>\n",
       "      <td>3.6</td>\n",
       "      <td>1.4</td>\n",
       "      <td>0.2</td>\n",
       "      <td>Iris-setosa</td>\n",
       "    </tr>\n",
       "  </tbody>\n",
       "</table>\n",
       "</div>"
      ],
      "text/plain": [
       "   Id  SepalLengthCm  SepalWidthCm  PetalLengthCm  PetalWidthCm      Species\n",
       "0   1            5.1           3.5            1.4           0.2  Iris-setosa\n",
       "1   2            4.9           3.0            1.4           0.2  Iris-setosa\n",
       "2   3            4.7           3.2            1.3           0.2  Iris-setosa\n",
       "3   4            4.6           3.1            1.5           0.2  Iris-setosa\n",
       "4   5            5.0           3.6            1.4           0.2  Iris-setosa"
      ]
     },
     "execution_count": 3,
     "metadata": {},
     "output_type": "execute_result"
    }
   ],
   "source": [
    "df.head()"
   ]
  },
  {
   "cell_type": "code",
   "execution_count": 4,
   "id": "eaae878e",
   "metadata": {},
   "outputs": [
    {
     "data": {
      "text/plain": [
       "array(['Iris-setosa', 'Iris-versicolor', 'Iris-virginica'], dtype=object)"
      ]
     },
     "execution_count": 4,
     "metadata": {},
     "output_type": "execute_result"
    }
   ],
   "source": [
    "# Identifying unique species \n",
    "df.Species.unique()"
   ]
  },
  {
   "cell_type": "code",
   "execution_count": 5,
   "id": "054cbc87",
   "metadata": {},
   "outputs": [
    {
     "data": {
      "text/html": [
       "<div>\n",
       "<style scoped>\n",
       "    .dataframe tbody tr th:only-of-type {\n",
       "        vertical-align: middle;\n",
       "    }\n",
       "\n",
       "    .dataframe tbody tr th {\n",
       "        vertical-align: top;\n",
       "    }\n",
       "\n",
       "    .dataframe thead th {\n",
       "        text-align: right;\n",
       "    }\n",
       "</style>\n",
       "<table border=\"1\" class=\"dataframe\">\n",
       "  <thead>\n",
       "    <tr style=\"text-align: right;\">\n",
       "      <th></th>\n",
       "      <th>Id</th>\n",
       "      <th>SepalLengthCm</th>\n",
       "      <th>SepalWidthCm</th>\n",
       "      <th>PetalLengthCm</th>\n",
       "    </tr>\n",
       "  </thead>\n",
       "  <tbody>\n",
       "    <tr>\n",
       "      <th>0</th>\n",
       "      <td>1</td>\n",
       "      <td>5.1</td>\n",
       "      <td>3.5</td>\n",
       "      <td>1.4</td>\n",
       "    </tr>\n",
       "    <tr>\n",
       "      <th>1</th>\n",
       "      <td>2</td>\n",
       "      <td>4.9</td>\n",
       "      <td>3.0</td>\n",
       "      <td>1.4</td>\n",
       "    </tr>\n",
       "    <tr>\n",
       "      <th>2</th>\n",
       "      <td>3</td>\n",
       "      <td>4.7</td>\n",
       "      <td>3.2</td>\n",
       "      <td>1.3</td>\n",
       "    </tr>\n",
       "    <tr>\n",
       "      <th>3</th>\n",
       "      <td>4</td>\n",
       "      <td>4.6</td>\n",
       "      <td>3.1</td>\n",
       "      <td>1.5</td>\n",
       "    </tr>\n",
       "    <tr>\n",
       "      <th>4</th>\n",
       "      <td>5</td>\n",
       "      <td>5.0</td>\n",
       "      <td>3.6</td>\n",
       "      <td>1.4</td>\n",
       "    </tr>\n",
       "    <tr>\n",
       "      <th>...</th>\n",
       "      <td>...</td>\n",
       "      <td>...</td>\n",
       "      <td>...</td>\n",
       "      <td>...</td>\n",
       "    </tr>\n",
       "    <tr>\n",
       "      <th>145</th>\n",
       "      <td>146</td>\n",
       "      <td>6.7</td>\n",
       "      <td>3.0</td>\n",
       "      <td>5.2</td>\n",
       "    </tr>\n",
       "    <tr>\n",
       "      <th>146</th>\n",
       "      <td>147</td>\n",
       "      <td>6.3</td>\n",
       "      <td>2.5</td>\n",
       "      <td>5.0</td>\n",
       "    </tr>\n",
       "    <tr>\n",
       "      <th>147</th>\n",
       "      <td>148</td>\n",
       "      <td>6.5</td>\n",
       "      <td>3.0</td>\n",
       "      <td>5.2</td>\n",
       "    </tr>\n",
       "    <tr>\n",
       "      <th>148</th>\n",
       "      <td>149</td>\n",
       "      <td>6.2</td>\n",
       "      <td>3.4</td>\n",
       "      <td>5.4</td>\n",
       "    </tr>\n",
       "    <tr>\n",
       "      <th>149</th>\n",
       "      <td>150</td>\n",
       "      <td>5.9</td>\n",
       "      <td>3.0</td>\n",
       "      <td>5.1</td>\n",
       "    </tr>\n",
       "  </tbody>\n",
       "</table>\n",
       "<p>150 rows × 4 columns</p>\n",
       "</div>"
      ],
      "text/plain": [
       "      Id  SepalLengthCm  SepalWidthCm  PetalLengthCm\n",
       "0      1            5.1           3.5            1.4\n",
       "1      2            4.9           3.0            1.4\n",
       "2      3            4.7           3.2            1.3\n",
       "3      4            4.6           3.1            1.5\n",
       "4      5            5.0           3.6            1.4\n",
       "..   ...            ...           ...            ...\n",
       "145  146            6.7           3.0            5.2\n",
       "146  147            6.3           2.5            5.0\n",
       "147  148            6.5           3.0            5.2\n",
       "148  149            6.2           3.4            5.4\n",
       "149  150            5.9           3.0            5.1\n",
       "\n",
       "[150 rows x 4 columns]"
      ]
     },
     "execution_count": 5,
     "metadata": {},
     "output_type": "execute_result"
    }
   ],
   "source": [
    "# Selecting the input for the model\n",
    "X =df.iloc[:,[0,1,2,3]]\n",
    "X"
   ]
  },
  {
   "cell_type": "code",
   "execution_count": 6,
   "id": "e9975803",
   "metadata": {},
   "outputs": [
    {
     "data": {
      "text/plain": [
       "array([[  1. ,   5.1,   3.5,   1.4],\n",
       "       [  2. ,   4.9,   3. ,   1.4],\n",
       "       [  3. ,   4.7,   3.2,   1.3],\n",
       "       [  4. ,   4.6,   3.1,   1.5],\n",
       "       [  5. ,   5. ,   3.6,   1.4],\n",
       "       [  6. ,   5.4,   3.9,   1.7],\n",
       "       [  7. ,   4.6,   3.4,   1.4],\n",
       "       [  8. ,   5. ,   3.4,   1.5],\n",
       "       [  9. ,   4.4,   2.9,   1.4],\n",
       "       [ 10. ,   4.9,   3.1,   1.5],\n",
       "       [ 11. ,   5.4,   3.7,   1.5],\n",
       "       [ 12. ,   4.8,   3.4,   1.6],\n",
       "       [ 13. ,   4.8,   3. ,   1.4],\n",
       "       [ 14. ,   4.3,   3. ,   1.1],\n",
       "       [ 15. ,   5.8,   4. ,   1.2],\n",
       "       [ 16. ,   5.7,   4.4,   1.5],\n",
       "       [ 17. ,   5.4,   3.9,   1.3],\n",
       "       [ 18. ,   5.1,   3.5,   1.4],\n",
       "       [ 19. ,   5.7,   3.8,   1.7],\n",
       "       [ 20. ,   5.1,   3.8,   1.5],\n",
       "       [ 21. ,   5.4,   3.4,   1.7],\n",
       "       [ 22. ,   5.1,   3.7,   1.5],\n",
       "       [ 23. ,   4.6,   3.6,   1. ],\n",
       "       [ 24. ,   5.1,   3.3,   1.7],\n",
       "       [ 25. ,   4.8,   3.4,   1.9],\n",
       "       [ 26. ,   5. ,   3. ,   1.6],\n",
       "       [ 27. ,   5. ,   3.4,   1.6],\n",
       "       [ 28. ,   5.2,   3.5,   1.5],\n",
       "       [ 29. ,   5.2,   3.4,   1.4],\n",
       "       [ 30. ,   4.7,   3.2,   1.6],\n",
       "       [ 31. ,   4.8,   3.1,   1.6],\n",
       "       [ 32. ,   5.4,   3.4,   1.5],\n",
       "       [ 33. ,   5.2,   4.1,   1.5],\n",
       "       [ 34. ,   5.5,   4.2,   1.4],\n",
       "       [ 35. ,   4.9,   3.1,   1.5],\n",
       "       [ 36. ,   5. ,   3.2,   1.2],\n",
       "       [ 37. ,   5.5,   3.5,   1.3],\n",
       "       [ 38. ,   4.9,   3.1,   1.5],\n",
       "       [ 39. ,   4.4,   3. ,   1.3],\n",
       "       [ 40. ,   5.1,   3.4,   1.5],\n",
       "       [ 41. ,   5. ,   3.5,   1.3],\n",
       "       [ 42. ,   4.5,   2.3,   1.3],\n",
       "       [ 43. ,   4.4,   3.2,   1.3],\n",
       "       [ 44. ,   5. ,   3.5,   1.6],\n",
       "       [ 45. ,   5.1,   3.8,   1.9],\n",
       "       [ 46. ,   4.8,   3. ,   1.4],\n",
       "       [ 47. ,   5.1,   3.8,   1.6],\n",
       "       [ 48. ,   4.6,   3.2,   1.4],\n",
       "       [ 49. ,   5.3,   3.7,   1.5],\n",
       "       [ 50. ,   5. ,   3.3,   1.4],\n",
       "       [ 51. ,   7. ,   3.2,   4.7],\n",
       "       [ 52. ,   6.4,   3.2,   4.5],\n",
       "       [ 53. ,   6.9,   3.1,   4.9],\n",
       "       [ 54. ,   5.5,   2.3,   4. ],\n",
       "       [ 55. ,   6.5,   2.8,   4.6],\n",
       "       [ 56. ,   5.7,   2.8,   4.5],\n",
       "       [ 57. ,   6.3,   3.3,   4.7],\n",
       "       [ 58. ,   4.9,   2.4,   3.3],\n",
       "       [ 59. ,   6.6,   2.9,   4.6],\n",
       "       [ 60. ,   5.2,   2.7,   3.9],\n",
       "       [ 61. ,   5. ,   2. ,   3.5],\n",
       "       [ 62. ,   5.9,   3. ,   4.2],\n",
       "       [ 63. ,   6. ,   2.2,   4. ],\n",
       "       [ 64. ,   6.1,   2.9,   4.7],\n",
       "       [ 65. ,   5.6,   2.9,   3.6],\n",
       "       [ 66. ,   6.7,   3.1,   4.4],\n",
       "       [ 67. ,   5.6,   3. ,   4.5],\n",
       "       [ 68. ,   5.8,   2.7,   4.1],\n",
       "       [ 69. ,   6.2,   2.2,   4.5],\n",
       "       [ 70. ,   5.6,   2.5,   3.9],\n",
       "       [ 71. ,   5.9,   3.2,   4.8],\n",
       "       [ 72. ,   6.1,   2.8,   4. ],\n",
       "       [ 73. ,   6.3,   2.5,   4.9],\n",
       "       [ 74. ,   6.1,   2.8,   4.7],\n",
       "       [ 75. ,   6.4,   2.9,   4.3],\n",
       "       [ 76. ,   6.6,   3. ,   4.4],\n",
       "       [ 77. ,   6.8,   2.8,   4.8],\n",
       "       [ 78. ,   6.7,   3. ,   5. ],\n",
       "       [ 79. ,   6. ,   2.9,   4.5],\n",
       "       [ 80. ,   5.7,   2.6,   3.5],\n",
       "       [ 81. ,   5.5,   2.4,   3.8],\n",
       "       [ 82. ,   5.5,   2.4,   3.7],\n",
       "       [ 83. ,   5.8,   2.7,   3.9],\n",
       "       [ 84. ,   6. ,   2.7,   5.1],\n",
       "       [ 85. ,   5.4,   3. ,   4.5],\n",
       "       [ 86. ,   6. ,   3.4,   4.5],\n",
       "       [ 87. ,   6.7,   3.1,   4.7],\n",
       "       [ 88. ,   6.3,   2.3,   4.4],\n",
       "       [ 89. ,   5.6,   3. ,   4.1],\n",
       "       [ 90. ,   5.5,   2.5,   4. ],\n",
       "       [ 91. ,   5.5,   2.6,   4.4],\n",
       "       [ 92. ,   6.1,   3. ,   4.6],\n",
       "       [ 93. ,   5.8,   2.6,   4. ],\n",
       "       [ 94. ,   5. ,   2.3,   3.3],\n",
       "       [ 95. ,   5.6,   2.7,   4.2],\n",
       "       [ 96. ,   5.7,   3. ,   4.2],\n",
       "       [ 97. ,   5.7,   2.9,   4.2],\n",
       "       [ 98. ,   6.2,   2.9,   4.3],\n",
       "       [ 99. ,   5.1,   2.5,   3. ],\n",
       "       [100. ,   5.7,   2.8,   4.1],\n",
       "       [101. ,   6.3,   3.3,   6. ],\n",
       "       [102. ,   5.8,   2.7,   5.1],\n",
       "       [103. ,   7.1,   3. ,   5.9],\n",
       "       [104. ,   6.3,   2.9,   5.6],\n",
       "       [105. ,   6.5,   3. ,   5.8],\n",
       "       [106. ,   7.6,   3. ,   6.6],\n",
       "       [107. ,   4.9,   2.5,   4.5],\n",
       "       [108. ,   7.3,   2.9,   6.3],\n",
       "       [109. ,   6.7,   2.5,   5.8],\n",
       "       [110. ,   7.2,   3.6,   6.1],\n",
       "       [111. ,   6.5,   3.2,   5.1],\n",
       "       [112. ,   6.4,   2.7,   5.3],\n",
       "       [113. ,   6.8,   3. ,   5.5],\n",
       "       [114. ,   5.7,   2.5,   5. ],\n",
       "       [115. ,   5.8,   2.8,   5.1],\n",
       "       [116. ,   6.4,   3.2,   5.3],\n",
       "       [117. ,   6.5,   3. ,   5.5],\n",
       "       [118. ,   7.7,   3.8,   6.7],\n",
       "       [119. ,   7.7,   2.6,   6.9],\n",
       "       [120. ,   6. ,   2.2,   5. ],\n",
       "       [121. ,   6.9,   3.2,   5.7],\n",
       "       [122. ,   5.6,   2.8,   4.9],\n",
       "       [123. ,   7.7,   2.8,   6.7],\n",
       "       [124. ,   6.3,   2.7,   4.9],\n",
       "       [125. ,   6.7,   3.3,   5.7],\n",
       "       [126. ,   7.2,   3.2,   6. ],\n",
       "       [127. ,   6.2,   2.8,   4.8],\n",
       "       [128. ,   6.1,   3. ,   4.9],\n",
       "       [129. ,   6.4,   2.8,   5.6],\n",
       "       [130. ,   7.2,   3. ,   5.8],\n",
       "       [131. ,   7.4,   2.8,   6.1],\n",
       "       [132. ,   7.9,   3.8,   6.4],\n",
       "       [133. ,   6.4,   2.8,   5.6],\n",
       "       [134. ,   6.3,   2.8,   5.1],\n",
       "       [135. ,   6.1,   2.6,   5.6],\n",
       "       [136. ,   7.7,   3. ,   6.1],\n",
       "       [137. ,   6.3,   3.4,   5.6],\n",
       "       [138. ,   6.4,   3.1,   5.5],\n",
       "       [139. ,   6. ,   3. ,   4.8],\n",
       "       [140. ,   6.9,   3.1,   5.4],\n",
       "       [141. ,   6.7,   3.1,   5.6],\n",
       "       [142. ,   6.9,   3.1,   5.1],\n",
       "       [143. ,   5.8,   2.7,   5.1],\n",
       "       [144. ,   6.8,   3.2,   5.9],\n",
       "       [145. ,   6.7,   3.3,   5.7],\n",
       "       [146. ,   6.7,   3. ,   5.2],\n",
       "       [147. ,   6.3,   2.5,   5. ],\n",
       "       [148. ,   6.5,   3. ,   5.2],\n",
       "       [149. ,   6.2,   3.4,   5.4],\n",
       "       [150. ,   5.9,   3. ,   5.1]])"
      ]
     },
     "execution_count": 6,
     "metadata": {},
     "output_type": "execute_result"
    }
   ],
   "source": [
    "# Converting the selected input to array\n",
    "X= X.values\n",
    "X"
   ]
  },
  {
   "cell_type": "code",
   "execution_count": 7,
   "id": "3229c6dc",
   "metadata": {},
   "outputs": [],
   "source": [
    "# Importing k-means clustering algorithm and birch algorithm\n",
    "from sklearn.cluster import KMeans, Birch"
   ]
  },
  {
   "cell_type": "markdown",
   "id": "e135b54d",
   "metadata": {},
   "source": [
    "<h2>KMeans</h2>\n",
    "K means clustering starts by choosing the number k of clusters.\n",
    "\n",
    "The second step includes allcoating k random points as centroids.\n",
    "\n",
    "The dataset points will be allocated to the centroid which is closest to them.\n",
    "\n",
    "The centroid of individual clusters is calculated and the old centroid is placed there.\n",
    "\n",
    "The points are then reassigned and if the reassignment does not takes place then the model has converged \n",
    "and if not the fourth step is repeated."
   ]
  },
  {
   "cell_type": "code",
   "execution_count": 8,
   "id": "2fbfc8db",
   "metadata": {},
   "outputs": [],
   "source": [
    "# The number of clusters is chosen\n",
    "wcss=[]\n",
    "for i in range(1,11):\n",
    "    kmeans=KMeans(n_clusters=i, init='k-means++', random_state=42)\n",
    "    kmeans.fit(X)\n",
    "    wcss.append(kmeans.inertia_)"
   ]
  },
  {
   "cell_type": "code",
   "execution_count": 9,
   "id": "713f5e39",
   "metadata": {},
   "outputs": [
    {
     "data": {
      "image/png": "[encoded data removed]",
      "text/plain": [
       "<Figure size 720x360 with 1 Axes>"
      ]
     },
     "metadata": {
      "needs_background": "light"
     },
     "output_type": "display_data"
    }
   ],
   "source": [
    "# plotting the number of clusters against performance\n",
    "plt.figure(figsize=(10,5))\n",
    "plt.plot(range(1,11),wcss,marker='o',color=\"purple\")\n",
    "plt.title('Choosing the number of clusters')\n",
    "plt.xlabel('Number of clusters')\n",
    "plt.ylabel('WCSS')\n",
    "plt.show()"
   ]
  },
  {
   "cell_type": "code",
   "execution_count": 10,
   "id": "fb81c61e",
   "metadata": {},
   "outputs": [],
   "source": [
    "# defining, training the model and making predictions with the kmeans model\n",
    "kmeans=KMeans(n_clusters=3,init='k-means++', random_state=42)\n",
    "y_kmeans =kmeans.fit_predict(X)"
   ]
  },
  {
   "cell_type": "code",
   "execution_count": 11,
   "id": "fbdcc7f9",
   "metadata": {},
   "outputs": [
    {
     "data": {
      "text/plain": [
       "0.5820898597618552"
      ]
     },
     "execution_count": 11,
     "metadata": {},
     "output_type": "execute_result"
    }
   ],
   "source": [
    "# measuring the kmeans model\n",
    "silhouette_score(X,y_kmeans)"
   ]
  },
  {
   "cell_type": "markdown",
   "id": "d689d6e9",
   "metadata": {},
   "source": [
    "<h2>Birch</h2>\n",
    "Balanced Iterative Reducing and Clustering using Hierarchies (BIRCH) generates a smaller dataset which is a compact summary of the larger dataset. The smaller dataset retains information from the larger dataset. It constructs a tree data structure where the leaves are the centroids of the cluster."
   ]
  },
  {
   "cell_type": "code",
   "execution_count": 12,
   "id": "c1463bc6",
   "metadata": {},
   "outputs": [],
   "source": [
    "# defining, training the model and making predictions with the birch model\n",
    "birch = Birch(threshold=1, n_clusters=3)\n",
    "ybirch=birch.fit_predict(X)"
   ]
  },
  {
   "cell_type": "code",
   "execution_count": 13,
   "id": "48f00b20",
   "metadata": {},
   "outputs": [
    {
     "data": {
      "text/plain": [
       "0.5506230439568367"
      ]
     },
     "execution_count": 13,
     "metadata": {},
     "output_type": "execute_result"
    }
   ],
   "source": [
    "silhouette_score(X,ybirch)"
   ]
  },
  {
   "cell_type": "code",
   "execution_count": 14,
   "id": "95fcf9b7",
   "metadata": {
    "scrolled": true
   },
   "outputs": [
    {
     "data": {
      "text/plain": [
       "array([[125.5  ,   6.588,   2.974,   5.552],\n",
       "       [ 25.5  ,   5.006,   3.418,   1.464],\n",
       "       [ 75.5  ,   5.936,   2.77 ,   4.26 ]])"
      ]
     },
     "execution_count": 14,
     "metadata": {},
     "output_type": "execute_result"
    }
   ],
   "source": [
    "# Identifying the centroids of kmeans model\n",
    "kmeans.cluster_centers_"
   ]
  },
  {
   "cell_type": "code",
   "execution_count": 15,
   "id": "554e0935",
   "metadata": {},
   "outputs": [
    {
     "data": {
      "text/plain": [
       "array([[  2.        ,   4.9       ,   3.23333333,   1.36666667],\n",
       "       [  5.        ,   5.        ,   3.53333333,   1.53333333],\n",
       "       [  8.        ,   4.66666667,   3.23333333,   1.43333333],\n",
       "       [ 11.        ,   5.03333333,   3.4       ,   1.53333333],\n",
       "       [ 13.5       ,   4.55      ,   3.        ,   1.25      ],\n",
       "       [ 16.        ,   5.63333333,   4.1       ,   1.33333333],\n",
       "       [ 19.        ,   5.3       ,   3.7       ,   1.53333333],\n",
       "       [ 22.        ,   5.03333333,   3.56666667,   1.4       ],\n",
       "       [ 25.        ,   4.96666667,   3.23333333,   1.73333333],\n",
       "       [ 28.        ,   5.13333333,   3.43333333,   1.5       ],\n",
       "       [ 31.        ,   4.96666667,   3.23333333,   1.56666667],\n",
       "       [ 34.        ,   5.2       ,   3.8       ,   1.46666667],\n",
       "       [ 37.        ,   5.13333333,   3.26666667,   1.33333333],\n",
       "       [ 40.        ,   4.83333333,   3.3       ,   1.36666667],\n",
       "       [ 42.5       ,   4.45      ,   2.75      ,   1.3       ],\n",
       "       [ 45.        ,   4.96666667,   3.43333333,   1.63333333],\n",
       "       [ 48.        ,   5.        ,   3.56666667,   1.5       ],\n",
       "       [ 50.        ,   5.        ,   3.3       ,   1.4       ],\n",
       "       [ 52.        ,   6.76666667,   3.16666667,   4.7       ],\n",
       "       [ 55.        ,   5.9       ,   2.63333333,   4.36666667],\n",
       "       [ 57.        ,   6.3       ,   3.3       ,   4.7       ],\n",
       "       [ 58.        ,   4.9       ,   2.4       ,   3.3       ],\n",
       "       [ 59.5       ,   5.9       ,   2.8       ,   4.25      ],\n",
       "       [ 61.5       ,   5.45      ,   2.5       ,   3.85      ],\n",
       "       [ 63.5       ,   6.05      ,   2.55      ,   4.35      ],\n",
       "       [ 65.5       ,   6.15      ,   3.        ,   4.        ],\n",
       "       [ 68.        ,   5.86666667,   2.63333333,   4.36666667],\n",
       "       [ 71.        ,   5.86666667,   2.83333333,   4.23333333],\n",
       "       [ 74.        ,   6.26666667,   2.73333333,   4.63333333],\n",
       "       [ 77.        ,   6.7       ,   2.93333333,   4.73333333],\n",
       "       [ 80.        ,   5.73333333,   2.63333333,   3.93333333],\n",
       "       [ 82.5       ,   5.65      ,   2.55      ,   3.8       ],\n",
       "       [ 85.        ,   5.8       ,   3.03333333,   4.7       ],\n",
       "       [ 87.5       ,   6.5       ,   2.7       ,   4.55      ],\n",
       "       [ 90.        ,   5.53333333,   2.7       ,   4.16666667],\n",
       "       [ 92.5       ,   5.95      ,   2.8       ,   4.3       ],\n",
       "       [ 94.5       ,   5.3       ,   2.5       ,   3.75      ],\n",
       "       [ 97.        ,   5.86666667,   2.93333333,   4.23333333],\n",
       "       [ 99.5       ,   5.4       ,   2.65      ,   3.55      ],\n",
       "       [101.5       ,   6.05      ,   3.        ,   5.55      ],\n",
       "       [104.        ,   6.63333333,   2.96666667,   5.76666667],\n",
       "       [106.        ,   7.6       ,   3.        ,   6.6       ],\n",
       "       [107.        ,   4.9       ,   2.5       ,   4.5       ],\n",
       "       [109.        ,   7.06666667,   3.        ,   6.06666667],\n",
       "       [112.        ,   6.56666667,   2.96666667,   5.3       ],\n",
       "       [115.        ,   5.96666667,   2.83333333,   5.13333333],\n",
       "       [117.        ,   6.5       ,   3.        ,   5.5       ],\n",
       "       [118.5       ,   7.7       ,   3.2       ,   6.8       ],\n",
       "       [120.5       ,   6.45      ,   2.7       ,   5.35      ],\n",
       "       [122.        ,   5.6       ,   2.8       ,   4.9       ],\n",
       "       [123.        ,   7.7       ,   2.8       ,   6.7       ],\n",
       "       [124.5       ,   6.5       ,   3.        ,   5.3       ],\n",
       "       [126.5       ,   6.7       ,   3.        ,   5.4       ],\n",
       "       [128.5       ,   6.25      ,   2.9       ,   5.25      ],\n",
       "       [131.        ,   7.5       ,   3.2       ,   6.1       ],\n",
       "       [134.        ,   6.26666667,   2.73333333,   5.43333333],\n",
       "       [136.5       ,   7.        ,   3.2       ,   5.85      ],\n",
       "       [139.        ,   6.43333333,   3.06666667,   5.23333333],\n",
       "       [142.        ,   6.46666667,   2.96666667,   5.26666667],\n",
       "       [145.        ,   6.73333333,   3.16666667,   5.6       ],\n",
       "       [148.        ,   6.33333333,   2.96666667,   5.2       ],\n",
       "       [150.        ,   5.9       ,   3.        ,   5.1       ]])"
      ]
     },
     "execution_count": 15,
     "metadata": {},
     "output_type": "execute_result"
    }
   ],
   "source": [
    "# Identifying the centroids of birch\n",
    "birch.subcluster_centers_"
   ]
  },
  {
   "cell_type": "code",
   "execution_count": 16,
   "id": "0a346a3f",
   "metadata": {},
   "outputs": [
    {
     "data": {
      "image/png": "[encoded data removed]",
      "text/plain": [
       "<Figure size 432x288 with 1 Axes>"
      ]
     },
     "metadata": {
      "needs_background": "light"
     },
     "output_type": "display_data"
    },
    {
     "data": {
      "image/png": "[encoded data removed]",
      "text/plain": [
       "<Figure size 432x288 with 1 Axes>"
      ]
     },
     "metadata": {
      "needs_background": "light"
     },
     "output_type": "display_data"
    }
   ],
   "source": [
    "# Visualizing the clusters\n",
    "plt.scatter(X[y_kmeans==0,0], X[y_kmeans==0,1],\n",
    "            c='cyan',label='Iris-setosa', s=50)\n",
    "plt.scatter(X[y_kmeans==1,0], X[y_kmeans==1,1],\n",
    "            c='grey', label='Iris-versicolor', s=50)\n",
    "plt.scatter(X[y_kmeans==2,0], X[y_kmeans==2,1],\n",
    "            c='green', label='Iris-virginica', s=50)\n",
    "plt.scatter(kmeans.cluster_centers_[:,0],kmeans.cluster_centers_[:,1],\n",
    "            color='red', label='Centroids',s=300)\n",
    "plt.title('clusters of iris using kmeans')\n",
    "\n",
    "plt.show()\n",
    "\n",
    "# Visualizing the clusters\n",
    "plt.scatter(X[ybirch==0,0], X[ybirch==0,1],\n",
    "            c='cyan',label='Iris-setosa', s=50)\n",
    "plt.scatter(X[ybirch==1,0], X[ybirch==1,1],\n",
    "            c='grey', label='Iris-versicolor', s=50)\n",
    "plt.scatter(X[ybirch==2,0], X[ybirch==2,1],\n",
    "            c='green', label='Iris-virginica', s=50)\n",
    "plt.scatter(birch.subcluster_centers_[:,0],birch.subcluster_centers_[:,1],\n",
    "            color='black', label='Centroids',s=25)\n",
    "plt.title('clusters of iris using birch')\n",
    "\n",
    "plt.show()"
   ]
  },
  {
   "cell_type": "markdown",
   "id": "a9c53f84",
   "metadata": {},
   "source": [
    "KMeans model clusters the species of the iris dataset better than the BIRCH model."
   ]
  },
  {
   "cell_type": "code",
   "execution_count": null,
   "id": "19e4ad68",
   "metadata": {},
   "outputs": [],
   "source": []
  }
 ],
 "metadata": {
  "kernelspec": {
   "display_name": "Python 3",
   "language": "python",
   "name": "python3"
  },
  "language_info": {
   "codemirror_mode": {
    "name": "ipython",
    "version": 3
   },
   "file_extension": ".py",
   "mimetype": "text/x-python",
   "name": "python",
   "nbconvert_exporter": "python",
   "pygments_lexer": "ipython3",
   "version": "3.7.10"
  }
 },
 "nbformat": 4,
 "nbformat_minor": 5
}
